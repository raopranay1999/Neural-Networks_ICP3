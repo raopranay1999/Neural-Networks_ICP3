{
 "cells": [
  {
   "cell_type": "code",
   "execution_count": 2,
   "id": "ae768e01",
   "metadata": {},
   "outputs": [
    {
     "name": "stdout",
     "output_type": "stream",
     "text": [
      "Total number of employees: 3\n",
      "Average salary: 61666.666666666664\n"
     ]
    }
   ],
   "source": [
    "class Employee:\n",
    "    employee_count = 0\n",
    "    \n",
    "    def __init__(self, name, family, salary, department):\n",
    "        # Instance variables\n",
    "        self.name = name\n",
    "        self.family = family\n",
    "        self.salary = salary\n",
    "        self.department = department\n",
    "        \n",
    "        Employee.employee_count += 1\n",
    "    \n",
    "    @staticmethod\n",
    "    def average_salary(employee_list):\n",
    "        total_salary = sum(emp.salary for emp in employee_list)\n",
    "        return total_salary / len(employee_list) if len(employee_list) > 0 else 0\n",
    "\n",
    "class FulltimeEmployee(Employee):\n",
    "    pass\n",
    "\n",
    "employee1 = Employee(\"John Doe\", \"Spouse and 2 children\", 50000, \"HR\")\n",
    "employee2 = Employee(\"Jane Smith\", \"Spouse\", 60000, \"IT\")\n",
    "\n",
    "fulltime_employee = FulltimeEmployee(\"Alice Johnson\", \"Spouse\", 75000, \"Finance\")\n",
    "\n",
    "employee_list = [employee1, employee2, fulltime_employee]\n",
    "\n",
    "print(\"Total number of employees:\", Employee.employee_count)\n",
    "\n",
    "print(\"Average salary:\", Employee.average_salary(employee_list))\n"
   ]
  },
  {
   "cell_type": "code",
   "execution_count": 3,
   "id": "fb8776c2",
   "metadata": {},
   "outputs": [
    {
     "name": "stdout",
     "output_type": "stream",
     "text": [
      "Original array:\n",
      "[ 3.06730569 12.79235201  8.35100806 12.37537309  0.          1.33605758\n",
      "  0.          8.19236407 14.1180505  13.86120406 10.62547891 10.6056213\n",
      "  9.25019746  6.47437576  0.         18.95550172  0.         14.80050228\n",
      " 12.71440108  3.03260645]\n",
      "\n",
      "Reshaped array:\n",
      "[[ 3.06730569 12.79235201  8.35100806 12.37537309  0.        ]\n",
      " [ 1.33605758  0.          8.19236407 14.1180505  13.86120406]\n",
      " [10.62547891 10.6056213   9.25019746  6.47437576  0.        ]\n",
      " [18.95550172  0.         14.80050228 12.71440108  3.03260645]]\n"
     ]
    }
   ],
   "source": [
    "import numpy as np\n",
    "\n",
    "random_vector = np.random.uniform(1, 20, 20)\n",
    "\n",
    "reshaped_array = random_vector.reshape(4, 5)\n",
    "\n",
    "reshaped_array[np.arange(len(reshaped_array)), reshaped_array.argmax(axis=1)] = 0\n",
    "\n",
    "print(\"Original array:\")\n",
    "print(random_vector)\n",
    "print(\"\\nReshaped array:\")\n",
    "print(reshaped_array)"
   ]
  },
  {
   "cell_type": "code",
   "execution_count": null,
   "id": "f776074f",
   "metadata": {},
   "outputs": [],
   "source": []
  }
 ],
 "metadata": {
  "kernelspec": {
   "display_name": "Python 3 (ipykernel)",
   "language": "python",
   "name": "python3"
  },
  "language_info": {
   "codemirror_mode": {
    "name": "ipython",
    "version": 3
   },
   "file_extension": ".py",
   "mimetype": "text/x-python",
   "name": "python",
   "nbconvert_exporter": "python",
   "pygments_lexer": "ipython3",
   "version": "3.11.4"
  }
 },
 "nbformat": 4,
 "nbformat_minor": 5
}
